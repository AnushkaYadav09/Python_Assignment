{
 "cells": [
  {
   "cell_type": "code",
   "execution_count": 2,
   "id": "928a4220-fc03-43d9-b845-a9b31df3a858",
   "metadata": {},
   "outputs": [],
   "source": [
    "import numpy as np"
   ]
  },
  {
   "cell_type": "code",
   "execution_count": 3,
   "id": "a1a3c3c9-8bb9-4394-8c3f-d277bb74ee9b",
   "metadata": {},
   "outputs": [
    {
     "data": {
      "text/plain": [
       "array([0, 1, 2, 3, 4, 5])"
      ]
     },
     "execution_count": 3,
     "metadata": {},
     "output_type": "execute_result"
    }
   ],
   "source": [
    "#1Create a NumPy array arr of integers from 0 to 5 and print its data type.\n",
    "arr=np.arange(6)\n",
    "arr"
   ]
  },
  {
   "cell_type": "code",
   "execution_count": 4,
   "id": "1d95b7cf-aee6-4c99-980f-a8acdc86be0c",
   "metadata": {},
   "outputs": [
    {
     "name": "stdout",
     "output_type": "stream",
     "text": [
      "Its float type of data\n"
     ]
    }
   ],
   "source": [
    "#2Given a NumPy array arr, check if its data type is float64\n",
    "arr=np.array([0.1,0.2,0.3,0.4])\n",
    "if arr.dtype == np.float64:\n",
    "    print(\"Its float type of data\")\n",
    "else:\n",
    "     print(\"its not an float64 type of data\")\n"
   ]
  },
  {
   "cell_type": "code",
   "execution_count": 5,
   "id": "bfed5ec3-a755-469a-b5fb-6324252efad6",
   "metadata": {},
   "outputs": [
    {
     "name": "stdout",
     "output_type": "stream",
     "text": [
      "[1.+2.j 1.+3.j 1.+4.j]\n"
     ]
    }
   ],
   "source": [
    "#3Create a NumPy array arr with a data type of complex128 containing three complex numbers.\n",
    "arr=np.array([1+2j,1+3j,1+4j],dtype=np.complex128)\n",
    "print(arr)"
   ]
  },
  {
   "cell_type": "code",
   "execution_count": 6,
   "id": "5897a6dc-02bf-4092-b32a-2a7f695b241a",
   "metadata": {},
   "outputs": [
    {
     "name": "stdout",
     "output_type": "stream",
     "text": [
      "[ 0  1  2  3  4  5  6  7  8  9 10 11]\n",
      "int64\n",
      "[ 0.  1.  2.  3.  4.  5.  6.  7.  8.  9. 10. 11.]\n",
      "float32\n"
     ]
    }
   ],
   "source": [
    "#4Convert an existing NumPy array arr of integers to float32 data type\n",
    "arr=np.arange(12)\n",
    "print(arr)\n",
    "print(arr.dtype)\n",
    "float_1 = arr.astype(np.float32)\n",
    "print(float_1)\n",
    "print(float_1.dtype)"
   ]
  },
  {
   "cell_type": "code",
   "execution_count": 7,
   "id": "be0f95a4-4eb4-4dbf-ad89-3b86c2cec11a",
   "metadata": {},
   "outputs": [
    {
     "name": "stdout",
     "output_type": "stream",
     "text": [
      "[0.1 0.2 0.3 0.4]\n",
      "float64\n",
      "[0.1 0.2 0.3 0.4]\n",
      "float32\n"
     ]
    }
   ],
   "source": [
    "#5Given a NumPy array arr with float64 data type, convert it to float32 to reduce decimal precision.\n",
    "arr=np.array([0.1,0.2,0.3,0.4])\n",
    "print(arr)\n",
    "print(arr.dtype)\n",
    "float_32=arr.astype(np.float32)\n",
    "print(float_32)\n",
    "print(float_32.dtype)"
   ]
  },
  {
   "cell_type": "code",
   "execution_count": 8,
   "id": "19530e9c-ccf8-412d-a971-e13b864e05e4",
   "metadata": {},
   "outputs": [
    {
     "name": "stdout",
     "output_type": "stream",
     "text": [
      "Shape (2, 4)\n",
      "Size 8\n",
      "Dtype int64\n"
     ]
    }
   ],
   "source": [
    "#6Write a function array_attributes that takes a NumPy array as input and returns its shape, size, and data type\n",
    "def array_attributes(arr):\n",
    "    shape= arr.shape\n",
    "    size= arr.size\n",
    "    dtype= arr.dtype\n",
    "    return shape,size,dtype\n",
    "\n",
    "arr=np.array([[0,1,2,3] ,[1,4,5,6]])\n",
    "att=array_attributes(arr)\n",
    "print(\"Shape\",att[0])\n",
    "print(\"Size\",att[1])\n",
    "print(\"Dtype\",att[2])"
   ]
  },
  {
   "cell_type": "code",
   "execution_count": 9,
   "id": "99dce213-fcad-4a4a-8003-ee525a5f695d",
   "metadata": {},
   "outputs": [
    {
     "name": "stdout",
     "output_type": "stream",
     "text": [
      "2\n"
     ]
    }
   ],
   "source": [
    "#7 Create a function array_dimension that returns the dimensionality of a NumPy array.\n",
    "def array_dimension(arr):\n",
    "    dim=  arr.ndim\n",
    "    return dim\n",
    "\n",
    "arr=np.array([[1,2,3,4,5],[1,3,4,5,7],[1,321,452345,73437,535,]])\n",
    "print(array_dimension(arr))"
   ]
  },
  {
   "cell_type": "code",
   "execution_count": 10,
   "id": "c8a81107-28ea-44e3-9dae-292f290821a0",
   "metadata": {},
   "outputs": [
    {
     "name": "stdout",
     "output_type": "stream",
     "text": [
      "item size= 4\n",
      "item Byte= 48\n"
     ]
    }
   ],
   "source": [
    "#8Design a function item_size_info that returns the item size and total size in bytesof a NumPy array.\n",
    "def item_size_info(arr):\n",
    "    item_size=arr.itemsize\n",
    "    item_byte=arr.nbytes\n",
    "    return item_size,item_byte\n",
    "\n",
    "arr=np.array([[1,2,3,4],[11,22,33,44],[111,222,333,444]],dtype=np.int32)\n",
    "item_size,item_byte=item_size_info(arr)\n",
    "print(\"item size=\",item_size)\n",
    "print(\"item Byte=\",item_byte)"
   ]
  },
  {
   "cell_type": "code",
   "execution_count": 11,
   "id": "624384ae-5070-4ec7-a26c-c3e1a338a34d",
   "metadata": {},
   "outputs": [
    {
     "name": "stdout",
     "output_type": "stream",
     "text": [
      "Array [[ 1  2  3  4]\n",
      " [ 9  8  7  6]\n",
      " [11 12 13 14]]\n",
      "Strides (32, 8)\n"
     ]
    }
   ],
   "source": [
    "#9Create a function array_strides that returns the strides of the given NumPy array.\n",
    "def array_strides(arr):\n",
    "    return arr.strides\n",
    "arr=np.array([[1,2,3,4],[9,8,7,6],[11,12,13,14]])\n",
    "print(\"Array\",arr)\n",
    "print(\"Strides\",array_strides(arr))\n"
   ]
  },
  {
   "cell_type": "code",
   "execution_count": 12,
   "id": "a1fab2d1-11d6-4331-932d-082d07794996",
   "metadata": {},
   "outputs": [
    {
     "name": "stdout",
     "output_type": "stream",
     "text": [
      "shape (2, 4)\n",
      "strides (32, 8)\n"
     ]
    }
   ],
   "source": [
    "#10Design a function shape_stride_relationship that returns the shape and strides of the given array\n",
    "def shape_stride_relationship(arr):\n",
    "    shape=arr.shape\n",
    "    strides=arr.strides\n",
    "    return shape,strides\n",
    "\n",
    "arr=np.array([[1,2,3,4],[1,5,6,7]])\n",
    "shape,strides=shape_stride_relationship(arr)\n",
    "print(\"shape\",shape)\n",
    "print(\"strides\",strides)"
   ]
  },
  {
   "cell_type": "code",
   "execution_count": 13,
   "id": "e56787cd-4f34-4d5d-a658-e9ca53a8c693",
   "metadata": {},
   "outputs": [
    {
     "name": "stdout",
     "output_type": "stream",
     "text": [
      "[[0. 0. 0.]\n",
      " [0. 0. 0.]]\n"
     ]
    }
   ],
   "source": [
    "#11Create a function create_zeros_array(n) to return a NumPy array of zeros with n elements.\n",
    "def create_zeros_array(shape):\n",
    "    zeroes = np.zeros(shape)\n",
    "    return zeroes\n",
    "\n",
    "arr = np.array([[1, 2, 3], [1, 4, 5]])\n",
    "print(create_zeros_array(arr.shape))"
   ]
  },
  {
   "cell_type": "code",
   "execution_count": 14,
   "id": "cede4374-4166-46b7-91cb-f23e9877eef4",
   "metadata": {},
   "outputs": [
    {
     "name": "stdout",
     "output_type": "stream",
     "text": [
      "[[1. 1. 1.]\n",
      " [1. 1. 1.]\n",
      " [1. 1. 1.]]\n"
     ]
    }
   ],
   "source": [
    "#12Write a function create_ones_matrix(rows, cols) to create a 2D array filled with ones.\n",
    "def create_ones_matrix(rows, cols):\n",
    "    return np.ones((rows,cols))#2darray(()),3Darray((()))\n",
    "\n",
    "matrix=create_ones_matrix(3,3)\n",
    "print(matrix)\n",
    "    "
   ]
  },
  {
   "cell_type": "code",
   "execution_count": 15,
   "id": "c34e0590-c426-48ec-9ebc-4a422ee35e4a",
   "metadata": {},
   "outputs": [
    {
     "name": "stdout",
     "output_type": "stream",
     "text": [
      "[ 0  1  2  3  4  5  6  7  8  9 10 11]\n"
     ]
    }
   ],
   "source": [
    "#13 Write a function generate_range_array(start, stop, step) to create a ranged NumPy array.\n",
    "def generate_range_array(start, stop, step):\n",
    "    return np.arange(start,stop,step)\n",
    "\n",
    "arr=generate_range_array(0,12,1)\n",
    "print(arr)\n",
    "    "
   ]
  },
  {
   "cell_type": "code",
   "execution_count": 16,
   "id": "c0891c1a-5b99-4359-809d-d45fe7ba8353",
   "metadata": {},
   "outputs": [
    {
     "name": "stdout",
     "output_type": "stream",
     "text": [
      "[ 1.   6.5 12. ]\n"
     ]
    }
   ],
   "source": [
    "#14Design a function generate_linear_space(start, stop, num) for equally spaced values.\n",
    "def generate_linear_space(start, stop, num):\n",
    "    return np.linspace(start,stop,num)\n",
    "\n",
    "arr=generate_linear_space(1,12,3)\n",
    "print(arr)"
   ]
  },
  {
   "cell_type": "code",
   "execution_count": 17,
   "id": "42fe9478-1ee3-4f53-80ac-0efdc78971c1",
   "metadata": {},
   "outputs": [
    {
     "name": "stdout",
     "output_type": "stream",
     "text": [
      "[[1. 0. 0. 0.]\n",
      " [0. 1. 0. 0.]\n",
      " [0. 0. 1. 0.]\n",
      " [0. 0. 0. 1.]]\n"
     ]
    }
   ],
   "source": [
    "#15Create a function create_identity_matrix(n) using numpy.eye.\n",
    "def create_identity_matrix(n):\n",
    "    return np.eye(n)\n",
    "arr=create_identity_matrix(4)\n",
    "print(arr)"
   ]
  },
  {
   "cell_type": "code",
   "execution_count": 18,
   "id": "88ae28e9-9ba2-4bc7-a916-23315f124bd4",
   "metadata": {},
   "outputs": [
    {
     "name": "stdout",
     "output_type": "stream",
     "text": [
      "[1 2 3 4 6 7 9]\n"
     ]
    }
   ],
   "source": [
    "#16Write a function that converts a Python list into a NumPy array\n",
    "def convert_pylist_into_nparray(lst):\n",
    "    return np.array(lst)\n",
    "lst=[1,2,3,4,6,7,9]\n",
    "con=convert_pylist_into_nparray(lst)\n",
    "print(con)"
   ]
  },
  {
   "cell_type": "code",
   "execution_count": 19,
   "id": "f4f41b38-8081-4e3f-aabc-e5f7e9ef2eb9",
   "metadata": {},
   "outputs": [
    {
     "name": "stdout",
     "output_type": "stream",
     "text": [
      "old [ 1  2  3  4  5 78  1]\n",
      "new [ 1  2  3  4  5 78  1]\n",
      "same data: True\n"
     ]
    }
   ],
   "source": [
    "#17Create a NumPy array and use numpy.view() to create a new view with the samedata.\n",
    "arr=np.array([1,2,3,4,5,78,1])\n",
    "print(\"old\",arr)\n",
    "new=arr.view()\n",
    "print(\"new\",new)\n",
    "print(\"same data:\",new.base is arr)"
   ]
  },
  {
   "cell_type": "code",
   "execution_count": 20,
   "id": "ccf80125-e115-4504-be5c-ca6fd929ed9b",
   "metadata": {},
   "outputs": [
    {
     "name": "stdout",
     "output_type": "stream",
     "text": [
      "[[1 2]\n",
      " [3 4]\n",
      " [5 6]\n",
      " [7 8]]\n",
      "[[1 2 5 6]\n",
      " [3 4 7 8]]\n"
     ]
    }
   ],
   "source": [
    "#18Write a function to concatenate two NumPy arrays along a specified axis.\n",
    "def concatenate(arr1, arr2, axis=0):\n",
    "    return np.concatenate((arr1, arr2), axis=axis)\n",
    "\n",
    "a = np.array([[1, 2], [3, 4]])\n",
    "b = np.array([[5, 6], [7, 8]])\n",
    "result=concatenate(a,b,axis=0)\n",
    "print(result)\n",
    "result1=concatenate(a,b,axis=1)\n",
    "print(result1)"
   ]
  },
  {
   "cell_type": "code",
   "execution_count": 21,
   "id": "335d46d1-4fec-4b78-8ad7-08c031915229",
   "metadata": {},
   "outputs": [
    {
     "name": "stdout",
     "output_type": "stream",
     "text": [
      "[[1 2 9 5 6 5]\n",
      " [3 4 8 7 8 6]]\n"
     ]
    }
   ],
   "source": [
    "#19. Concatenate two arrays with different shapes horizontally using numpy.concatenate.\n",
    "a = np.array([[1, 2,9], [3, 4,8]])\n",
    "b = np.array([[5, 6], [7, 8]])\n",
    "c=np.array([[5],[6]])\n",
    "result=np.concatenate((a,b,c),axis=1)\n",
    "print(result)"
   ]
  },
  {
   "cell_type": "code",
   "execution_count": 22,
   "id": "268ce0fa-08ec-4db6-81b7-c9ab4cd4492e",
   "metadata": {},
   "outputs": [
    {
     "name": "stdout",
     "output_type": "stream",
     "text": [
      "Result: [[1 2 4]\n",
      " [2 3 4]\n",
      " [4 5 6]]\n"
     ]
    }
   ],
   "source": [
    "#20Vertically stack multiple arrays from a list using numpy.vstack.\n",
    "arr=[\n",
    "    np.array([1,2,4]),\n",
    "    np.array([2,3,4]),\n",
    "    np.array([4,5,6])\n",
    "]\n",
    "result=np.vstack(arr)\n",
    "print(\"Result:\",result)"
   ]
  },
  {
   "cell_type": "code",
   "execution_count": 23,
   "id": "22c832a0-044b-4ba3-9cc3-26d102e33072",
   "metadata": {},
   "outputs": [
    {
     "name": "stdout",
     "output_type": "stream",
     "text": [
      "[1 3 5 7 9]\n"
     ]
    }
   ],
   "source": [
    "#21Write a function to generate an array of integers within a specified range (inclusive) with a step.\n",
    "def generate_int_range(start,stop,step):\n",
    "    if step>0:\n",
    "        stop+=1\n",
    "    elif step<0:\n",
    "        stop-=1\n",
    "    return np.arange(start,stop,step,dtype=int)\n",
    "\n",
    "arr=generate_int_range(1,10,2)\n",
    "print(arr)\n",
    "    "
   ]
  },
  {
   "cell_type": "code",
   "execution_count": 24,
   "id": "14d805ee-5587-4e7b-96ec-25a4d78784c6",
   "metadata": {},
   "outputs": [
    {
     "name": "stdout",
     "output_type": "stream",
     "text": [
      "[0.         0.11111111 0.22222222 0.33333333 0.44444444 0.55555556\n",
      " 0.66666667 0.77777778 0.88888889 1.        ]\n"
     ]
    }
   ],
   "source": [
    "#22Generate 10 equally spaced values between 0 and 1 using NumPy.\n",
    "space=np.linspace(0,1,10)\n",
    "print(space)"
   ]
  },
  {
   "cell_type": "code",
   "execution_count": 25,
   "id": "14bb54ba-a4e9-423d-a90b-3bc9cbcc82ec",
   "metadata": {},
   "outputs": [
    {
     "name": "stdout",
     "output_type": "stream",
     "text": [
      "[   1.            5.62341325   31.6227766   177.827941   1000.        ]\n"
     ]
    }
   ],
   "source": [
    "#23Create 5 logarithmically spaced values between 1 and 1000.\n",
    "arr=np.logspace(0,3,num=5)\n",
    "print(arr)"
   ]
  },
  {
   "cell_type": "code",
   "execution_count": 26,
   "id": "f271b7a7-592e-4e57-ad9e-e43a2f113476",
   "metadata": {},
   "outputs": [
    {
     "name": "stdout",
     "output_type": "stream",
     "text": [
      "   maths  Science  S.st\n",
      "0     77       24    69\n",
      "1     27       43    86\n",
      "2     97       56    53\n",
      "3     35       54    74\n",
      "4     73        4    38\n"
     ]
    }
   ],
   "source": [
    "#24Create a Pandas DataFrame from a NumPy array with 5 rows and 3 columns of random integers (1-100).\n",
    "import pandas as pd\n",
    "arr = np.random.randint(1, 101, size=(5, 3))\n",
    "df = pd.DataFrame(arr, columns=['maths', 'Science', 'S.st'])\n",
    "print(df)"
   ]
  },
  {
   "cell_type": "code",
   "execution_count": 27,
   "id": "3e3007c7-776f-4cae-80d8-a1bbba9b9c65",
   "metadata": {},
   "outputs": [
    {
     "name": "stdout",
     "output_type": "stream",
     "text": [
      "[[ 5 -3  2]\n",
      " [ 0  4 -6]\n",
      " [ 7 -2  9]]\n"
     ]
    }
   ],
   "source": [
    "#25. Write a function to replace all negative values in a specific column with zeros using NumPy\n",
    "def replace_negatives_with_zero(arr, col):\n",
    "    arr[:, col][arr[:, col] < 0] = 0\n",
    "    return arr\n",
    "a = np.array([[5, -3, 2],\n",
    "              [-1, 4, -6],\n",
    "              [7, -2, 9]])\n",
    "#print(replace_negatives_with_zero(a,1))\n",
    "print(replace_negatives_with_zero(a,0))\n",
    "#print(replace_negatives_with_zero(a,2))"
   ]
  },
  {
   "cell_type": "code",
   "execution_count": 28,
   "id": "b2cda00e-10a0-4ba2-ba86-dddbcb78a4dd",
   "metadata": {},
   "outputs": [
    {
     "name": "stdout",
     "output_type": "stream",
     "text": [
      "4\n"
     ]
    }
   ],
   "source": [
    "#26Access the 3rd element from the given NumPy array\n",
    "arr=np.array([1,2,4,5,6])\n",
    "print(arr[2])"
   ]
  },
  {
   "cell_type": "code",
   "execution_count": 29,
   "id": "0b51342d-5067-4896-8060-b7cb8910ce07",
   "metadata": {},
   "outputs": [
    {
     "name": "stdout",
     "output_type": "stream",
     "text": [
      "4\n"
     ]
    }
   ],
   "source": [
    "#27Retrieve the element at index (1, 2) from a 2D array.\n",
    "arr=np.array([[1,2,4],\n",
    "      [1,3,4]])\n",
    "print(arr[1,2])"
   ]
  },
  {
   "cell_type": "code",
   "execution_count": 30,
   "id": "d1fbb7ae-ed1c-4617-95c1-6c75c1f95df9",
   "metadata": {},
   "outputs": [
    {
     "name": "stdout",
     "output_type": "stream",
     "text": [
      "[[1 2 4]\n",
      " [1 3 9]\n",
      " [6 7 8]]\n",
      "greater then 5: [9 6 7 8]\n"
     ]
    }
   ],
   "source": [
    "#28Extract elements greater than 5 using boolean indexing.\n",
    "arr=np.array([[1,2,4],\n",
    "              [1,3,9],\n",
    "              [6,7,8]])\n",
    "print(arr)\n",
    "print(\"greater then 5:\",arr[arr>5])"
   ]
  },
  {
   "cell_type": "code",
   "execution_count": 31,
   "id": "0a2e73ca-2ab4-4415-8f2a-6624c582f9a0",
   "metadata": {},
   "outputs": [
    {
     "name": "stdout",
     "output_type": "stream",
     "text": [
      "[2 3 4]\n"
     ]
    }
   ],
   "source": [
    "#29Slice elements from index 2 to 5 (inclusive) from a NumPy array.\n",
    "arr=np.arange(15)\n",
    "print(arr[2:5])"
   ]
  },
  {
   "cell_type": "code",
   "execution_count": 32,
   "id": "ea6cc692-8628-457a-bae9-2616a5e32929",
   "metadata": {},
   "outputs": [
    {
     "name": "stdout",
     "output_type": "stream",
     "text": [
      "[[1 2 4]\n",
      " [1 3 9]\n",
      " [6 7 8]]\n",
      "Sub-Array [[1 2 4]\n",
      " [1 3 9]]\n"
     ]
    }
   ],
   "source": [
    "#30Slice the sub-array [[2, 3], [5, 6]] from a 2D array.\n",
    "arr=np.array([[1,2,4],\n",
    "              [1,3,9],\n",
    "              [6,7,8]])\n",
    "print(arr)\n",
    "print(\"Sub-Array\",arr[0:2])"
   ]
  },
  {
   "cell_type": "code",
   "execution_count": 33,
   "id": "0de03934-1f20-42d1-bae6-07678751a318",
   "metadata": {},
   "outputs": [
    {
     "name": "stdout",
     "output_type": "stream",
     "text": [
      "Extracted elements [2 9 6]\n"
     ]
    }
   ],
   "source": [
    "#31. Extract elements based on indices from a 2D array.\n",
    "arr=np.array([[1,2,4],\n",
    "              [1,3,9],\n",
    "              [6,7,8]])\n",
    "rows = [0, 1, 2]\n",
    "cols = [1, 2, 0]\n",
    "result=arr[rows,cols]\n",
    "print(\"Extracted elements\",result)\n"
   ]
  },
  {
   "cell_type": "code",
   "execution_count": 34,
   "id": "cf48da00-5246-4460-9010-299cce52f13b",
   "metadata": {},
   "outputs": [
    {
     "name": "stdout",
     "output_type": "stream",
     "text": [
      "[[1 2 4]\n",
      " [5 6 7]\n",
      " [1 2 4]]\n",
      "elements greater then threshold 5 : [6 7]\n"
     ]
    }
   ],
   "source": [
    "#32Filter elements greater than a threshold using boolean indexing.\n",
    "arr=np.array([[1,2,4],[5,6,7],[1,2,4]])\n",
    "threshold = 5\n",
    "res=arr[arr>threshold]\n",
    "print(arr)\n",
    "print(\"elements greater then threshold\",threshold ,\":\", res)"
   ]
  },
  {
   "cell_type": "code",
   "execution_count": 35,
   "id": "ef70ac46-0f9a-47dc-90c4-35858095ea13",
   "metadata": {},
   "outputs": [
    {
     "name": "stdout",
     "output_type": "stream",
     "text": [
      "Extracted elements: [ 6 26 32]\n"
     ]
    }
   ],
   "source": [
    "#33Extract specific elements from a 3D array using separate index arrays.\n",
    "arr=np.array([[[1,2,3,4],\n",
    "     [4,5,6,7],\n",
    "    [6,7,8,9]],\n",
    "\n",
    "     [[23, 24, 25, 26],\n",
    "     [27, 28, 29, 30],\n",
    "     [31, 32, 33, 34]]\n",
    "    ])\n",
    "i = np.array([0, 1, 1]) \n",
    "j = np.array([1, 0, 2])   \n",
    "k = np.array([2, 3, 1]) \n",
    "result = arr[i, j, k]\n",
    "print(\"Extracted elements:\",result)"
   ]
  },
  {
   "cell_type": "code",
   "execution_count": 36,
   "id": "8b4b251c-e4e4-4849-a200-859c9cfc483f",
   "metadata": {},
   "outputs": [
    {
     "name": "stdout",
     "output_type": "stream",
     "text": [
      "[18]\n"
     ]
    }
   ],
   "source": [
    "#34Return elements satisfying two boolean conditions.\n",
    "arr=np.array([1,2,4,5,7,8,9,18])\n",
    "result=arr[(arr>10)&(arr%2==0)]\n",
    "print(result)"
   ]
  },
  {
   "cell_type": "code",
   "execution_count": 37,
   "id": "269fa1c0-0826-4d51-b8ea-2f7e8a10c0ff",
   "metadata": {},
   "outputs": [
    {
     "name": "stdout",
     "output_type": "stream",
     "text": [
      "Extracted elements: [2 6 1]\n"
     ]
    }
   ],
   "source": [
    "#35Extract elements from a 2D array using separate row and column index arrays.\n",
    "arr=np.array(\n",
    "    [[1,2,4],\n",
    "     [4,5,6],\n",
    "     [1,5,7]])\n",
    "rows=np.array([0,1,2])\n",
    "cols=np.array([1,2,0])\n",
    "result= arr[rows,cols]\n",
    "print(\"Extracted elements:\",result)"
   ]
  },
  {
   "cell_type": "code",
   "execution_count": 40,
   "id": "0a3168b0-41c9-4e4e-ba4d-7a8dd63d64e1",
   "metadata": {},
   "outputs": [
    {
     "name": "stdout",
     "output_type": "stream",
     "text": [
      "[[ 6  7  9]\n",
      " [ 9 10 11]\n",
      " [ 6 10 12]]\n"
     ]
    }
   ],
   "source": [
    "#36 Add scalar 5 to every element of an array using broadcasting\n",
    "arr=np.array(\n",
    "    [[1,2,4],\n",
    "     [4,5,6],\n",
    "     [1,5,7]])\n",
    "result=arr+5\n",
    "print(result)"
   ]
  },
  {
   "cell_type": "code",
   "execution_count": 41,
   "id": "849fcf75-4314-4449-9d3a-2b100ebb32ef",
   "metadata": {},
   "outputs": [
    {
     "name": "stdout",
     "output_type": "stream",
     "text": [
      "[[ 2  4  6  6]\n",
      " [ 4 12 16 20]\n",
      " [ 6 12 15  6]]\n"
     ]
    }
   ],
   "source": [
    "#37Multiply each row of a (3, 4) array by corresponding elements of a (1, 3) array\n",
    "arr=np.array([[1,2,3,3],\n",
    "              [1,3,4,5],\n",
    "              [2,4,5,2]])\n",
    "row=np.array([[2],\n",
    "              [4],\n",
    "              [3]])\n",
    "res=arr*row\n",
    "print(res)"
   ]
  },
  {
   "cell_type": "code",
   "execution_count": 43,
   "id": "5b1e391f-33d6-4702-bbcd-def214e35c21",
   "metadata": {},
   "outputs": [
    {
     "name": "stdout",
     "output_type": "stream",
     "text": [
      "[[2 3 4]\n",
      " [4 3 5]\n",
      " [4 4 6]\n",
      " [5 6 6]]\n"
     ]
    }
   ],
   "source": [
    "#38. Add a (1, 4) array to every row of a (4, 3) array using broadcasting\n",
    "arr=np.array([[1,2,3],\n",
    "             [2,1,3],\n",
    "             [1,1,3],\n",
    "             [1,2,2]])\n",
    "new=np.array([[1],\n",
    "             [2],\n",
    "             [3],\n",
    "             [4]])\n",
    "res=arr+new\n",
    "print(res)"
   ]
  },
  {
   "cell_type": "code",
   "execution_count": 46,
   "id": "cc364a2c-2678-4444-863d-fa73cb7a4fd9",
   "metadata": {},
   "outputs": [
    {
     "name": "stdout",
     "output_type": "stream",
     "text": [
      "[[2 3 4]\n",
      " [3 4 5]\n",
      " [4 5 6]]\n"
     ]
    }
   ],
   "source": [
    "#39Add two arrays of shapes (3, 1) and (1, 3) using broadcasting\n",
    "arr=np.array([[1],\n",
    "             [2],\n",
    "             [3]])\n",
    "new=np.array([[1,2,3]])\n",
    "res=arr+new\n",
    "print(res)"
   ]
  },
  {
   "cell_type": "code",
   "execution_count": 49,
   "id": "706d0548-225f-4157-aafa-9900e15fe7de",
   "metadata": {},
   "outputs": [
    {
     "name": "stdout",
     "output_type": "stream",
     "text": [
      "[[1. 4. 3.]\n",
      " [2. 3. 1.]]\n"
     ]
    }
   ],
   "source": [
    "#40Handle shape incompatibility during multiplication between (2, 3) and (2, 2) arrays\n",
    "arr=np.array([[1,2],\n",
    "             [2,3]])\n",
    "new=np.array([[1,2,3],\n",
    "             [1,1,1],\n",
    "             ])\n",
    "arr_expanded = np.concatenate([arr, np.ones((2,1))], axis=1) #add a column of ones\n",
    "res=new*arr_expanded\n",
    "print(res)"
   ]
  },
  {
   "cell_type": "code",
   "execution_count": 52,
   "id": "b94df0c0-03c4-4b74-9cc9-6990e6450a82",
   "metadata": {},
   "outputs": [
    {
     "name": "stdout",
     "output_type": "stream",
     "text": [
      "[3 5 8]\n"
     ]
    }
   ],
   "source": [
    "#41Calculate column-wise mean of a 2D array\n",
    "arr=np.array([[1,2,3],\n",
    "             [1,1,1],\n",
    "             [1,2,4]])\n",
    "mean=arr.sum(axis=0)\n",
    "print(mean)"
   ]
  },
  {
   "cell_type": "code",
   "execution_count": 55,
   "id": "bfd96ad4-d142-4567-8fb7-ba870dd6dcab",
   "metadata": {},
   "outputs": [
    {
     "name": "stdout",
     "output_type": "stream",
     "text": [
      "[3 4 6]\n"
     ]
    }
   ],
   "source": [
    "#42Find maximum value in each row.\n",
    "arr=np.array([[1,2,3],\n",
    "             [2,3,4],\n",
    "             [4,5,6]])\n",
    "max_element=arr.max(axis=1)\n",
    "print(max_element)"
   ]
  },
  {
   "cell_type": "code",
   "execution_count": 58,
   "id": "fe5106ba-e0ea-4146-bb15-b00110944e11",
   "metadata": {},
   "outputs": [
    {
     "name": "stdout",
     "output_type": "stream",
     "text": [
      "[2 1 2]\n"
     ]
    }
   ],
   "source": [
    "#43Find indices of maximum values in each column\n",
    "arr=np.array([[1,2,3],\n",
    "             [2,9,4],\n",
    "             [4,5,6]])\n",
    "max_indices=np.argmax(arr,axis=0)\n",
    "print(max_indices)"
   ]
  },
  {
   "cell_type": "code",
   "execution_count": 60,
   "id": "7e560457-8f40-43f0-b1b0-2892f1c543bd",
   "metadata": {},
   "outputs": [
    {
     "name": "stdout",
     "output_type": "stream",
     "text": [
      "[[ 3  5  4]\n",
      " [11 13  9]\n",
      " [ 9 11 10]]\n"
     ]
    }
   ],
   "source": [
    "#44Apply a custom function to compute moving sum along rows.\n",
    "def moving_sum(row, window=2):\n",
    "    return np.convolve(row, np.ones(window, dtype=int), 'valid')\n",
    "arr=np.array([[1,2,3,1],\n",
    "             [2,9,4,5],\n",
    "             [4,5,6,4]])\n",
    "res=np.apply_along_axis(moving_sum, axis=1, arr=arr)\n",
    "print(res)"
   ]
  },
  {
   "cell_type": "code",
   "execution_count": 67,
   "id": "2bfc11ac-2c79-45b5-b421-19cbb03433f1",
   "metadata": {},
   "outputs": [
    {
     "name": "stdout",
     "output_type": "stream",
     "text": [
      "Column 0 → all even\n",
      "Column 1 → not all even\n",
      "Column 2 → not all even\n",
      "Column 3 → not all even\n"
     ]
    }
   ],
   "source": [
    "#45Check if all elements in each column are even\n",
    "arr=np.array([[8,2,3,1],\n",
    "             [2,3,4,16],\n",
    "             [4,5,6,4]])\n",
    "for col in range(arr.shape[1]):\n",
    "    if np.all(arr[:, col] % 2 == 0):\n",
    "        print(f\"Column {col} → all even\")\n",
    "    else:\n",
    "        print(f\"Column {col} → not all even\")"
   ]
  },
  {
   "cell_type": "code",
   "execution_count": 70,
   "id": "77ac0614-cc56-44c9-a647-c5b2376abbc8",
   "metadata": {},
   "outputs": [
    {
     "name": "stdout",
     "output_type": "stream",
     "text": [
      "reshaped [[ 0  1  2  3]\n",
      " [ 4  5  6  7]\n",
      " [ 8  9 10 11]]\n"
     ]
    }
   ],
   "source": [
    "#46Reshape a given array into dimensions m x n\n",
    "arr=np.arange(12)\n",
    "reshape=arr.reshape(3,4)\n",
    "print(\"reshaped\",reshape)"
   ]
  },
  {
   "cell_type": "code",
   "execution_count": 71,
   "id": "b6d68877-ddc8-4583-9cf8-cc87f0b74d7f",
   "metadata": {},
   "outputs": [
    {
     "name": "stdout",
     "output_type": "stream",
     "text": [
      "[ 8  2  3  1  2  3  4 16  4  5  6  4]\n"
     ]
    }
   ],
   "source": [
    "#47Return a flattened version of a given matrix\n",
    "arr=np.array([[8,2,3,1],\n",
    "             [2,3,4,16],\n",
    "             [4,5,6,4]])\n",
    "flattened=arr.flatten()\n",
    "print(flattened)"
   ]
  },
  {
   "cell_type": "code",
   "execution_count": 73,
   "id": "294f9889-4419-4db1-8761-9dbbd585be20",
   "metadata": {},
   "outputs": [
    {
     "name": "stdout",
     "output_type": "stream",
     "text": [
      "[[1 2 3]\n",
      " [2 3 1]\n",
      " [1 1 1]\n",
      " [1 2 3]]\n"
     ]
    }
   ],
   "source": [
    "#48Concatenate two arrays along a specified axis\n",
    "arr=np.array([[1,2,3],\n",
    "             [2,3,1]])\n",
    "arr2=np.array([[1,1,1],\n",
    "              [1,2,3]])\n",
    "res=np.concatenate((arr,arr2),axis=0)\n",
    "print(res)"
   ]
  },
  {
   "cell_type": "code",
   "execution_count": 86,
   "id": "318a29c9-23f2-44a9-ae50-d6054370b032",
   "metadata": {},
   "outputs": [
    {
     "name": "stdout",
     "output_type": "stream",
     "text": [
      "part 1:\n",
      "[[1 2 2]\n",
      " [1 0 1]]\n",
      "part 2:\n",
      "[[1 2 2]\n",
      " [1 1 1]]\n"
     ]
    }
   ],
   "source": [
    " #49Split an array into sub-arrays along a specified axis.\n",
    "arr=np.array([[1,2,2],\n",
    "             [1,0,1],\n",
    "             [1,2,2],\n",
    "             [1,1,1]])\n",
    "res=np.split(arr,2,axis=0)\n",
    "for i,part in enumerate(res):\n",
    "    print(f\"part {i+1}:\\n{part}\")"
   ]
  },
  {
   "cell_type": "code",
   "execution_count": 91,
   "id": "8f58433b-920b-4338-955f-c887c583f880",
   "metadata": {},
   "outputs": [
    {
     "name": "stdout",
     "output_type": "stream",
     "text": [
      "After insertion [1 2 5 2 1 0 1 1 2 2 1 1 1]\n",
      "After deletion [1 2 2 0 1 1 2 2 1 1 1]\n"
     ]
    }
   ],
   "source": [
    "#50. Insert and delete elements at specified indices from an array.\n",
    "arr=np.array([[1,2,2],\n",
    "             [1,0,1],\n",
    "             [1,2,2],\n",
    "             [1,1,1]])\n",
    "new_arr=np.insert(arr,2,5)\n",
    "print(\"After insertion\",new_arr)\n",
    "deleted_arr=np.delete(arr,3)\n",
    "print(\"After deletion\",deleted_arr)"
   ]
  },
  {
   "cell_type": "code",
   "execution_count": 94,
   "id": "dc0fe668-997b-41ab-bb1a-9cab177ba77b",
   "metadata": {},
   "outputs": [
    {
     "name": "stdout",
     "output_type": "stream",
     "text": [
      "Element-wise: [[ 6  8]\n",
      " [10 12]]\n"
     ]
    }
   ],
   "source": [
    "#51Perform element-wise addition between two arrays\n",
    "a = np.array([[1, 2],\n",
    "              [3, 4]])\n",
    "\n",
    "b = np.array([[5, 6],\n",
    "              [7, 8]])\n",
    "res=a+b\n",
    "print(\"Element-wise:\",res)"
   ]
  },
  {
   "cell_type": "code",
   "execution_count": 95,
   "id": "fe73b5b9-c1e5-451a-ba47-205353ccc963",
   "metadata": {},
   "outputs": [
    {
     "name": "stdout",
     "output_type": "stream",
     "text": [
      "[[ 6  7  9]\n",
      " [ 9 10 11]\n",
      " [ 6 10 12]]\n"
     ]
    }
   ],
   "source": [
    "#52Perform element-wise subtraction: subtract arr2 from arr1.\n",
    "arr1 = np.array([[10, 20],\n",
    "                 [30, 40]])\n",
    "\n",
    "arr2 = np.array([[1, 2],\n",
    "                 [3, 4]])\n",
    "res=arr1-arr2\n",
    "print(result)"
   ]
  },
  {
   "cell_type": "code",
   "execution_count": 96,
   "id": "3fa55ce7-17ab-4d56-95ad-3ea6e19e896d",
   "metadata": {},
   "outputs": [
    {
     "name": "stdout",
     "output_type": "stream",
     "text": [
      "element-wise multiplication. [[ 10  40]\n",
      " [ 90 160]]\n"
     ]
    }
   ],
   "source": [
    "#53 Perform element-wise multiplication.\n",
    "arr1 = np.array([[10, 20],\n",
    "                 [30, 40]])\n",
    "\n",
    "arr2 = np.array([[1, 2],\n",
    "                 [3, 4]])\n",
    "res=arr1*arr2\n",
    "print(\"element-wise multiplication.\",res)"
   ]
  },
  {
   "cell_type": "code",
   "execution_count": 99,
   "id": "237269f9-7f91-4f64-ba6f-599db71d5b62",
   "metadata": {},
   "outputs": [
    {
     "name": "stdout",
     "output_type": "stream",
     "text": [
      "[[10. 10.]\n",
      " [10. 10.]]\n"
     ]
    }
   ],
   "source": [
    "#54Divide elements of arr1 by arr2 element-wise.\n",
    "arr1 = np.array([[10, 20],\n",
    "                 [30, 40]])\n",
    "\n",
    "arr2 = np.array([[1, 2],\n",
    "                 [3, 4]])\n",
    "res=arr1/arr2\n",
    "print(res)"
   ]
  },
  {
   "cell_type": "code",
   "execution_count": 100,
   "id": "60014e97-95f4-4f12-bff5-cb38788b45aa",
   "metadata": {},
   "outputs": [
    {
     "name": "stdout",
     "output_type": "stream",
     "text": [
      "[[     10     400]\n",
      " [  27000 2560000]]\n"
     ]
    }
   ],
   "source": [
    "#55Perform element-wise exponentiation: arr1 ** arr2\n",
    "arr1 = np.array([[10, 20],\n",
    "                 [30, 40]])\n",
    "\n",
    "arr2 = np.array([[1, 2],\n",
    "                 [3, 4]])\n",
    "res=arr1**arr2\n",
    "print(res)"
   ]
  },
  {
   "cell_type": "code",
   "execution_count": 107,
   "id": "8ca88e8f-110e-4581-9166-e72b2f70b480",
   "metadata": {},
   "outputs": [
    {
     "name": "stdout",
     "output_type": "stream",
     "text": [
      "Occurrences of 'apple' in each element: [1 1 0 1 0]\n"
     ]
    }
   ],
   "source": [
    "#56Count occurrences of a substring in a string array\n",
    "\n",
    "\n",
    "arr = np.array([\"apple\", \"pineapple\", \"grape\", \"apple pie\", \"banana\"])\n",
    "count = np.char.count(arr, \"apple\")\n",
    "print(\"Occurrences of 'apple' in each element:\", count)\n"
   ]
  },
  {
   "cell_type": "code",
   "execution_count": 108,
   "id": "342eabd6-ea48-4397-ae67-ee19c2205c39",
   "metadata": {},
   "outputs": [
    {
     "name": "stdout",
     "output_type": "stream",
     "text": [
      "Uppercase characters: ['H', 'WORLD', 'NP', 'DATA', '']\n"
     ]
    }
   ],
   "source": [
    "#57Extract uppercase characters from a string array.\n",
    "arr = np.array([\"Hello\", \"WORLD\", \"NumPy\", \"DATA\", \"science\"])\n",
    "uppercase_chars = [ ''.join([char for char in string if char.isupper()]) for string in arr ]\n",
    "print(\"Uppercase characters:\", uppercase_chars)"
   ]
  },
  {
   "cell_type": "code",
   "execution_count": 109,
   "id": "f5ad0b5d-ce7c-4b9b-9732-929fb1955e5a",
   "metadata": {},
   "outputs": [
    {
     "name": "stdout",
     "output_type": "stream",
     "text": [
      "['info science' 'big info' 'info analysis']\n"
     ]
    }
   ],
   "source": [
    "#58Replace substring occurrences with another string in a string array.\n",
    "arr = np.array([\"data science\", \"big data\", \"data analysis\"])\n",
    "replaced_arr = np.char.replace(arr, \"data\", \"info\")\n",
    "print(replaced_arr)"
   ]
  },
  {
   "cell_type": "code",
   "execution_count": 110,
   "id": "fafa8679-63c5-45f9-a0f5-173528e0fdb7",
   "metadata": {},
   "outputs": [
    {
     "name": "stdout",
     "output_type": "stream",
     "text": [
      "['HelloWorld' 'GoodMorning' 'DataScience']\n"
     ]
    }
   ],
   "source": [
    "#59Concatenate strings in a NumPy array element-wise.\n",
    "arr1 = np.array([\"Hello\", \"Good\", \"Data\"])\n",
    "arr2 = np.array([\"World\", \"Morning\", \"Science\"])\n",
    "res=np.char.add(arr1,arr2)\n",
    "print(res)"
   ]
  },
  {
   "cell_type": "code",
   "execution_count": 111,
   "id": "f0c47ef8-692c-46df-85f2-4929cf6e5c22",
   "metadata": {},
   "outputs": [
    {
     "name": "stdout",
     "output_type": "stream",
     "text": [
      "Length of the longest string: 16\n"
     ]
    }
   ],
   "source": [
    "#60 Find the length of the longest string in a string array\n",
    "arr = np.array([\"AI\", \"Machine Learning\", \"Data\", \"Neural Networks\"])\n",
    "lengths = np.char.str_len(arr)\n",
    "max_length = np.max(lengths)\n",
    "print(\"Length of the longest string:\", max_length)"
   ]
  },
  {
   "cell_type": "code",
   "execution_count": 112,
   "id": "848f0b89-c4f5-4055-8742-f2ab6b9de86a",
   "metadata": {},
   "outputs": [
    {
     "name": "stdout",
     "output_type": "stream",
     "text": [
      "Data: [574 851 843 561 832 420 911 231 407 437 117 399 584 787 700 117 607 495\n",
      " 214 544 179 845 587 401 716 369 435 267 278 937 873 940 563 717 841 701\n",
      " 799 261 742 701 141 215 304 364 417 280 550  84 567 759 630  11 254 859\n",
      " 943 344 302 267  28 461 349 741 358  78 998 756 169 783 930  23 908  51\n",
      " 424 471 549 247 238 869 413 203 204 539 799 832  75 857 392 384 232   1\n",
      " 761 859 486 666 681 720 922 852 842 303]\n",
      "Mean: 515.28\n",
      "Median: 517.0\n",
      "Variance: 77095.2416\n",
      "Standard Deviation: 277.660298926584\n"
     ]
    }
   ],
   "source": [
    "#61Generate 100 random integers (1–1000) and compute mean, median, variance, and std deviation.\n",
    "data = np.random.randint(1, 1001, size=100)\n",
    "mean = np.mean(data)\n",
    "median = np.median(data)\n",
    "variance = np.var(data)\n",
    "std_dev = np.std(data)\n",
    "\n",
    "# Display results\n",
    "print(\"Data:\", data)\n",
    "print(\"Mean:\", mean)\n",
    "print(\"Median:\", median)\n",
    "print(\"Variance:\", variance)\n",
    "print(\"Standard Deviation:\", std_dev)"
   ]
  },
  {
   "cell_type": "code",
   "execution_count": 113,
   "id": "fa28a25d-80af-4ecb-a5fb-2380ad30a01b",
   "metadata": {},
   "outputs": [
    {
     "name": "stdout",
     "output_type": "stream",
     "text": [
      "Data: [26 43 90 29 70 12 61 26 45 60 74 83 20 76 96 23 67  8 96 29 37 70 63 89\n",
      " 11 65 34 21  3 96 54  9 30  5 24 95 76 52 62 40 76 73 47 23 80 15 30 69\n",
      " 57 18]\n",
      "25th Percentile: 24.5\n",
      "75th Percentile: 72.25\n"
     ]
    }
   ],
   "source": [
    "#62Generate 50 random numbers (1–100) and compute the 25th and 75th percentiles.\n",
    "data = np.random.randint(1, 101, size=50)\n",
    "percentile_25 = np.percentile(data, 25)\n",
    "percentile_75 = np.percentile(data, 75)\n",
    "print(\"Data:\", data)\n",
    "print(\"25th Percentile:\", percentile_25)\n",
    "print(\"75th Percentile:\", percentile_75)"
   ]
  },
  {
   "cell_type": "code",
   "execution_count": 114,
   "id": "b3a8ebae-09ea-4430-86d6-475a712ccf3d",
   "metadata": {},
   "outputs": [
    {
     "name": "stdout",
     "output_type": "stream",
     "text": [
      "matrix [[1.         0.99719224]\n",
      " [0.99719224 1.        ]]\n",
      "correlation 0.9971922417083551\n"
     ]
    }
   ],
   "source": [
    "#. 63Compute correlation coefficient between two arrays using np.corrcoef.\n",
    "x = np.array([10, 20, 30, 40, 50])\n",
    "y = np.array([12, 24, 33, 47, 55])\n",
    "corr_matrix = np.corrcoef(x, y)\n",
    "corr_coef = corr_matrix[0, 1]\n",
    "print(\"matrix\",corr_matrix)\n",
    "print(\"correlation\",corr_coef)"
   ]
  },
  {
   "cell_type": "code",
   "execution_count": 115,
   "id": "cf042849-b4c9-4852-a9ff-cf0bf591a5c6",
   "metadata": {},
   "outputs": [
    {
     "name": "stdout",
     "output_type": "stream",
     "text": [
      "[[19 22]\n",
      " [43 50]]\n"
     ]
    }
   ],
   "source": [
    "#64. Perform matrix multiplication using np.dot\n",
    "A = np.array([[1, 2],\n",
    "              [3, 4]])\n",
    "\n",
    "B = np.array([[5, 6],\n",
    "              [7, 8]])\n",
    "result = np.dot(A, B)\n",
    "print(result)"
   ]
  },
  {
   "cell_type": "code",
   "execution_count": 116,
   "id": "9f8258d1-2efa-49f7-8643-48461fa1b7da",
   "metadata": {},
   "outputs": [
    {
     "name": "stdout",
     "output_type": "stream",
     "text": [
      "Data: [ 95  64  66  25  15  22  31  20  92  40  67  88  40  10  31  90  12  27\n",
      "  24  41  44   8  62  86  30  18  95  72  83  72  15  40  27  31  39  62\n",
      "  64  67  67 100  13  52  75  27  60   8   7  89  78  53]\n",
      "\n",
      "Percentiles:\n",
      "10th Percentile: 12.9\n",
      "50th Percentile (Median): 42.5\n",
      "90th Percentile: 89.1\n",
      "\n",
      "Quartiles:\n",
      "Q1 (25%): 25.5\n",
      "Q2 (Median): 42.5\n",
      "Q3 (75%): 70.75\n"
     ]
    }
   ],
   "source": [
    "#65. Compute the 10th, 50th, and 90th percentiles and quartiles for an array of 50 integers\n",
    "data = np.random.randint(1, 101, size=50)\n",
    "p10 = np.percentile(data, 10)\n",
    "p50 = np.percentile(data, 50) \n",
    "p90 = np.percentile(data, 90)\n",
    "\n",
    "q1 = np.percentile(data, 25)\n",
    "q2 = np.percentile(data, 50)\n",
    "q3 = np.percentile(data, 75)\n",
    "\n",
    "print(\"Data:\", data)\n",
    "print(\"\\nPercentiles:\")\n",
    "print(\"10th Percentile:\", p10)\n",
    "print(\"50th Percentile (Median):\", p50)\n",
    "print(\"90th Percentile:\", p90)\n",
    "\n",
    "print(\"\\nQuartiles:\")\n",
    "print(\"Q1 (25%):\", q1)\n",
    "print(\"Q2 (Median):\", q2)\n",
    "print(\"Q3 (75%):\", q3)\n"
   ]
  },
  {
   "cell_type": "code",
   "execution_count": 117,
   "id": "d55ae7a4-e703-4a89-8f16-4b14fda4c3be",
   "metadata": {},
   "outputs": [
    {
     "name": "stdout",
     "output_type": "stream",
     "text": [
      "Index of 30: [2]\n"
     ]
    }
   ],
   "source": [
    "#66. Find index of a specific element in an array\n",
    "arr = np.array([10, 20, 30, 40, 50])\n",
    "index = np.where(arr == 30)\n",
    "print(\"Index of 30:\", index[0])\n"
   ]
  },
  {
   "cell_type": "code",
   "execution_count": 119,
   "id": "8a7eeb9a-0be1-4367-8780-0b4654f24116",
   "metadata": {},
   "outputs": [
    {
     "name": "stdout",
     "output_type": "stream",
     "text": [
      "Original array: [ 1 58 74 17  5 52 35  7 98 32]\n",
      "Sorted array: [ 1  5  7 17 32 35 52 58 74 98]\n"
     ]
    }
   ],
   "source": [
    "#67. Sort a random array in ascending order.\n",
    "arr = np.random.randint(1, 101, size=10)\n",
    "sorted_arr = np.sort(arr)\n",
    "print(\"Original array:\", arr)\n",
    "print(\"Sorted array:\", sorted_arr)"
   ]
  },
  {
   "cell_type": "code",
   "execution_count": 120,
   "id": "2a39adec-b242-4264-a317-7adebc52261f",
   "metadata": {},
   "outputs": [
    {
     "name": "stdout",
     "output_type": "stream",
     "text": [
      "[25 40 33]\n"
     ]
    }
   ],
   "source": [
    "#68. Filter elements greater than 20.\n",
    "arr = np.array([5, 12, 25, 40, 18, 33, 7])\n",
    "filtered=arr[arr>20]\n",
    "print(filtered)"
   ]
  },
  {
   "cell_type": "code",
   "execution_count": 125,
   "id": "62b74ffa-7084-4972-b999-82188cb8f198",
   "metadata": {},
   "outputs": [
    {
     "name": "stdout",
     "output_type": "stream",
     "text": [
      "[12 18 33]\n"
     ]
    }
   ],
   "source": [
    "#69. Filter elements divisible by 3.\n",
    "arr = np.array([5, 12, 25, 40, 18, 33, 7])\n",
    "filtered=arr[arr%3==0]\n",
    "print(filtered)"
   ]
  },
  {
   "cell_type": "code",
   "execution_count": 127,
   "id": "89a89708-807f-4f06-93e9-876ccd8e10ce",
   "metadata": {},
   "outputs": [
    {
     "name": "stdout",
     "output_type": "stream",
     "text": [
      "[25 40 33]\n"
     ]
    }
   ],
   "source": [
    "#70. Filter elements between 20 and 40 (inclusive). \n",
    "arr = np.array([5, 12, 25, 40, 18, 33, 7])\n",
    "filtered = arr[(arr >= 20) & (arr <= 40)]\n",
    "print(filtered)"
   ]
  },
  {
   "cell_type": "code",
   "execution_count": 128,
   "id": "703f6fc0-7a9b-4147-af32-aba9728028e8",
   "metadata": {},
   "outputs": [
    {
     "name": "stdout",
     "output_type": "stream",
     "text": [
      "Byte order: =\n"
     ]
    }
   ],
   "source": [
    "#71. Check byte order of a NumPy array using dtype.byteorder.\n",
    "arr = np.array([1, 2, 3], dtype=np.int32)\n",
    "byte_order = arr.dtype.byteorder\n",
    "print(\"Byte order:\", byte_order)"
   ]
  },
  {
   "cell_type": "code",
   "execution_count": 129,
   "id": "2306eaec-eac8-4cae-947e-036f149df65c",
   "metadata": {},
   "outputs": [
    {
     "name": "stdout",
     "output_type": "stream",
     "text": [
      "Original array: [   1  256 4096]\n",
      "After in-place byte swap: [256   1  16]\n"
     ]
    }
   ],
   "source": [
    "#72. Perform in-place byte swapping using byteswap().\n",
    "arr = np.array([1, 256, 4096], dtype=np.int16)\n",
    "print(\"Original array:\", arr)\n",
    "arr.byteswap(inplace=True)\n",
    "print(\"After in-place byte swap:\", arr)"
   ]
  }
 ],
 "metadata": {
  "kernelspec": {
   "display_name": "Python 3 (ipykernel)",
   "language": "python",
   "name": "python3"
  },
  "language_info": {
   "codemirror_mode": {
    "name": "ipython",
    "version": 3
   },
   "file_extension": ".py",
   "mimetype": "text/x-python",
   "name": "python",
   "nbconvert_exporter": "python",
   "pygments_lexer": "ipython3",
   "version": "3.13.5"
  }
 },
 "nbformat": 4,
 "nbformat_minor": 5
}
