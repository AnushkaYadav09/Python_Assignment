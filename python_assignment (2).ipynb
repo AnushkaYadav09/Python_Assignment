{
 "cells": [
  {
   "cell_type": "code",
   "execution_count": 30,
   "id": "74da41dc-ecdc-4578-9ce4-0e0898b019f4",
   "metadata": {},
   "outputs": [
    {
     "name": "stdout",
     "output_type": "stream",
     "text": [
      "Second_largest is 8\n"
     ]
    }
   ],
   "source": [
    "#1Write a Python program to find the second largest number in a list without using the sort() method.\n",
    "def second_largest(lst):\n",
    "    if len(lst) < 2:\n",
    "        return \"List must atleast 2 or more numbers\"\n",
    "    largest = second_largest = float('-inf')\n",
    "    for num in lst:\n",
    "        if num > largest:\n",
    "            second_largest = largest\n",
    "            largest = num\n",
    "        elif num > second_largest and num !=largest:\n",
    "            second_largest = num\n",
    "    if second_largest == float('-inf'):\n",
    "        return \" there is no second largest number exist\"\n",
    "    else:\n",
    "        return second_largest\n",
    "\n",
    "numbers=[5, 10, 3, 8, 10]\n",
    "print(\"Second_largest is\",second_largest(numbers))\n"
   ]
  },
  {
   "cell_type": "code",
   "execution_count": 33,
   "id": "86ed38c1-083b-4382-b201-33d0e05780de",
   "metadata": {},
   "outputs": [
    {
     "name": "stdout",
     "output_type": "stream",
     "text": [
      "Sorted and unique list: [1, 2, 3, 4, 5, 6, 12]\n"
     ]
    }
   ],
   "source": [
    "#2Remove duplicates from a list without using set() and return it in sorted order.\n",
    "def remove_duplicates_and_sorted(lst):\n",
    "    unique = []\n",
    "    for item in lst:\n",
    "        if item not in unique:\n",
    "            unique.append(item)\n",
    "    for i in range(len(unique)):\n",
    "        for j in range(i + 1,len(unique)):\n",
    "            if unique[i] > unique[j]:\n",
    "                unique[i],unique[j] = unique[j],unique[i]\n",
    "    return unique\n",
    "    \n",
    "numbers=[12,1,2,3,3,4,5,6,6,]\n",
    "result = remove_duplicates_and_sorted(numbers)\n",
    "print(\"Sorted and unique list:\",result)\n",
    "            \n",
    "                "
   ]
  },
  {
   "cell_type": "code",
   "execution_count": 1,
   "id": "436d4f83-43aa-4325-ac9a-c76402941ec3",
   "metadata": {},
   "outputs": [
    {
     "name": "stdout",
     "output_type": "stream",
     "text": [
      "total: 55\n",
      "average 5.5\n"
     ]
    }
   ],
   "source": [
    "#3Find the sum and average of a list of numbers.\n",
    "numbers = [1,2,3,4,5,6,7,8,9,10]\n",
    "total = sum(numbers)\n",
    "avg = total/len(numbers)\n",
    "print(\"total:\",total)\n",
    "print(\"average\",avg)"
   ]
  },
  {
   "cell_type": "code",
   "execution_count": 8,
   "id": "e7cd6a43-d771-468c-a57e-2c54a114db5b",
   "metadata": {},
   "outputs": [
    {
     "name": "stdout",
     "output_type": "stream",
     "text": [
      "not prime\n"
     ]
    }
   ],
   "source": [
    "#4 Create a program to check if a number is prime\n",
    "i = 12\n",
    "if i == 2:\n",
    "    print(\"prime\")\n",
    "elif i%2!=0:\n",
    "    print(\"prime\")\n",
    "else:\n",
    "    print(\"not prime\")"
   ]
  },
  {
   "cell_type": "code",
   "execution_count": 12,
   "id": "20a19e08-27cf-487f-91dc-98e67e4b0548",
   "metadata": {},
   "outputs": [
    {
     "name": "stdout",
     "output_type": "stream",
     "text": [
      "Vowels 3\n",
      "Consonants 5\n",
      "Digits 3\n",
      "Special 3\n"
     ]
    }
   ],
   "source": [
    "#5. Count the number of vowels, consonants, digits, and specialcharacters in a given string.\n",
    "text = \"ashihv@123ev!&\"\n",
    "vowels = consonants = digits = special = 0\n",
    "for ch in text:\n",
    "    if ch.lower() in 'aeiou':\n",
    "        vowels +=1\n",
    "    elif ch.isalpha():\n",
    "        consonants+=1\n",
    "    elif ch.isdigit():\n",
    "        digits+=1\n",
    "    else:\n",
    "        special+=1\n",
    "\n",
    "print(\"Vowels\",vowels)\n",
    "print(\"Consonants\",consonants)\n",
    "print(\"Digits\",digits)\n",
    "print(\"Special\",special)"
   ]
  },
  {
   "cell_type": "code",
   "execution_count": 13,
   "id": "30523866-c354-4895-8cb7-02b2c56b4609",
   "metadata": {},
   "outputs": [
    {
     "name": "stdout",
     "output_type": "stream",
     "text": [
      "2\n",
      "4\n",
      "6\n",
      "8\n",
      "10\n",
      "12\n",
      "14\n",
      "16\n",
      "18\n",
      "20\n",
      "22\n",
      "24\n",
      "26\n",
      "28\n",
      "30\n",
      "32\n",
      "34\n",
      "36\n",
      "38\n",
      "40\n",
      "42\n",
      "44\n",
      "46\n",
      "48\n",
      "50\n",
      "52\n",
      "54\n",
      "56\n",
      "58\n",
      "60\n",
      "62\n",
      "64\n",
      "66\n",
      "68\n",
      "70\n",
      "72\n",
      "74\n",
      "76\n",
      "78\n",
      "80\n",
      "82\n",
      "84\n",
      "86\n",
      "88\n",
      "90\n",
      "92\n",
      "94\n",
      "96\n",
      "98\n",
      "100\n"
     ]
    }
   ],
   "source": [
    "#6 Print all even numbers between 1 and 100 using a for loop.\n",
    "\n",
    "for i in range(1,101):\n",
    "    if i % 2==0:\n",
    "        print(i)"
   ]
  },
  {
   "cell_type": "code",
   "execution_count": 16,
   "id": "1bcd7d3b-214a-4028-9238-02f2ea26a5b2",
   "metadata": {},
   "outputs": [
    {
     "name": "stdout",
     "output_type": "stream",
     "text": [
      "Multiplication Table of 8:\n",
      "8 x 1 = 8\n",
      "8 x 2 = 16\n",
      "8 x 3 = 24\n",
      "8 x 4 = 32\n",
      "8 x 5 = 40\n",
      "8 x 6 = 48\n",
      "8 x 7 = 56\n",
      "8 x 8 = 64\n",
      "8 x 9 = 72\n",
      "8 x 10 = 80\n"
     ]
    }
   ],
   "source": [
    "#7Write a program to print the multiplication table of a number entered by the user.\n",
    "num = 8\n",
    "\n",
    "print(f\"Multiplication Table of {num}:\")\n",
    "for i in range(1, 11):\n",
    "    print(f\"{num} x {i} = {num * i}\")\n"
   ]
  },
  {
   "cell_type": "code",
   "execution_count": 26,
   "id": "8b90844f-3364-4999-9e67-765034d6dcb6",
   "metadata": {},
   "outputs": [
    {
     "name": "stdout",
     "output_type": "stream",
     "text": [
      "[5, 10, 20, 25, 35, 40, 50, 55, 65, 70, 80, 85, 95, 100]\n"
     ]
    }
   ],
   "source": [
    "#8Create a list of numbers from 1 to 100 that are divisible by both 3 and 5.\n",
    "count=[]\n",
    "for i in range(1,101):\n",
    "    if (i%3) and (i%5)==0:\n",
    "        count.append(i)\n",
    "print(count)\n",
    "        "
   ]
  },
  {
   "cell_type": "code",
   "execution_count": 32,
   "id": "b5e535fb-1571-4a15-af27-281123606af1",
   "metadata": {},
   "outputs": [
    {
     "name": "stdin",
     "output_type": "stream",
     "text": [
      "enter your number: 123456\n"
     ]
    },
    {
     "name": "stdout",
     "output_type": "stream",
     "text": [
      "reversed number: 654321\n"
     ]
    }
   ],
   "source": [
    "#9Take a number input and print its reverse.\n",
    "num = input(\"enter your number:\")\n",
    "print(\"reversed number:\" ,num[::-1])"
   ]
  },
  {
   "cell_type": "code",
   "execution_count": 35,
   "id": "df74cd7b-5043-4853-824e-6384a9877114",
   "metadata": {},
   "outputs": [
    {
     "name": "stdin",
     "output_type": "stream",
     "text": [
      "Enter your string afeaasdasdaadasd\n"
     ]
    },
    {
     "name": "stdout",
     "output_type": "stream",
     "text": [
      "Character frequencies {'a': 7, 'f': 1, 'e': 1, 's': 3, 'd': 4}\n"
     ]
    }
   ],
   "source": [
    "#10Count the frequency of each character in a string and store it in a dictionary.\n",
    "text = input(\"Enter your string\")\n",
    "freq={}\n",
    "for char in text:\n",
    "    if char in freq:\n",
    "        freq[char]+=1\n",
    "    else:\n",
    "        freq[char]=1\n",
    "print(\"Character frequencies\",freq)\n"
   ]
  },
  {
   "cell_type": "code",
   "execution_count": 38,
   "id": "4dbba48d-7d79-4fa5-87ea-8465e4329a26",
   "metadata": {},
   "outputs": [
    {
     "name": "stdin",
     "output_type": "stream",
     "text": [
      "Enter how many prime number u want: 5\n"
     ]
    },
    {
     "name": "stdout",
     "output_type": "stream",
     "text": [
      "2 3 5 7 11 "
     ]
    }
   ],
   "source": [
    "#11Write a Python program to generate the first n prime numbers.\n",
    "n = int(input(\"Enter how many prime number u want:\"))\n",
    "count = 0\n",
    "num = 2\n",
    "while count< n:\n",
    "    for i in range(2,num):\n",
    "        if num % i ==0:\n",
    "            break\n",
    "    else:\n",
    "        print(num,end=' ')\n",
    "        count+=1\n",
    "    num+=1\n",
    "        "
   ]
  },
  {
   "cell_type": "code",
   "execution_count": 41,
   "id": "b9b6b637-3a2e-4143-b30f-186580a3d36a",
   "metadata": {},
   "outputs": [
    {
     "name": "stdin",
     "output_type": "stream",
     "text": [
      "Enter your number: 456\n"
     ]
    },
    {
     "name": "stdout",
     "output_type": "stream",
     "text": [
      "its not a palindrome number\n"
     ]
    }
   ],
   "source": [
    "#12Check whether a number is a palindrome or not\n",
    "num = input(\"Enter your number:\")\n",
    "if num== num[::-1]:\n",
    "    print(\"Its Palindrome number\")\n",
    "else:\n",
    "    print(\"its not a palindrome number\")"
   ]
  },
  {
   "cell_type": "code",
   "execution_count": 44,
   "id": "dc207b85-8dfe-443d-84d1-4618e62872b1",
   "metadata": {},
   "outputs": [
    {
     "name": "stdin",
     "output_type": "stream",
     "text": [
      "Enter your Specific number: 4\n"
     ]
    },
    {
     "name": "stdout",
     "output_type": "stream",
     "text": [
      "4 appears 4 times in given list\n"
     ]
    }
   ],
   "source": [
    "#13 Count how many times a specific element appears in a list.\n",
    "List = [1,2,3,4,4,4,4,5,6,5]\n",
    "element = int(input(\"Enter your Specific number:\"))\n",
    "count= List.count(element)\n",
    "print(f\"{element} appears {count} times in given list\")"
   ]
  },
  {
   "cell_type": "code",
   "execution_count": 46,
   "id": "76004ae5-b697-408f-8e4c-c14f6cd32b6a",
   "metadata": {},
   "outputs": [
    {
     "name": "stdout",
     "output_type": "stream",
     "text": [
      "[4, 16, 36, 64, 100, 144, 196, 256, 324, 400, 484, 576, 676, 784, 900, 1024, 1156, 1296, 1444, 1600, 1764, 1936, 2116, 2304, 2500]\n"
     ]
    }
   ],
   "source": [
    "#14Create a list of squares of even numbers between 1 and 50.\n",
    "count=[]\n",
    "for i in range(1,51):\n",
    "    if i%2==0:\n",
    "        count.append(i**2)\n",
    "print(count)\n"
   ]
  },
  {
   "cell_type": "code",
   "execution_count": 49,
   "id": "e344366e-2e63-4db0-aae4-ece6328b80a4",
   "metadata": {},
   "outputs": [
    {
     "name": "stdin",
     "output_type": "stream",
     "text": [
      "Enter elements with space btw them: a c b v d g j l \n"
     ]
    },
    {
     "name": "stdout",
     "output_type": "stream",
     "text": [
      "['a', 'c', 'b', 'v', 'd', 'g', 'j', 'l']\n"
     ]
    }
   ],
   "source": [
    "#15Accept alist and return a new list with only unique elements (preserve order).\n",
    "org_list= input(\"Enter elements with space btw them:\").split()\n",
    "unique_list=[]\n",
    "for i in org_list:\n",
    "    if i not in unique_list:\n",
    "        unique_list.append(i)\n",
    "print(unique_list)"
   ]
  },
  {
   "cell_type": "code",
   "execution_count": 54,
   "id": "6a62676c-d0f8-4397-ab34-22ef7f7d48ff",
   "metadata": {},
   "outputs": [
    {
     "name": "stdout",
     "output_type": "stream",
     "text": [
      "odd\n"
     ]
    }
   ],
   "source": [
    "#Section B\n",
    "#16Write a function to check if a number is even or odd.\n",
    "def even_or_odd(num):\n",
    "    if num%2==0:\n",
    "        return \"even\"\n",
    "    else:\n",
    "        return \"odd\"\n",
    "num = 11\n",
    "print(even_or_odd(num))\n",
    "    "
   ]
  },
  {
   "cell_type": "code",
   "execution_count": 62,
   "id": "8aeaad91-138f-4c60-915b-a4f4cdbb8a9e",
   "metadata": {},
   "outputs": [
    {
     "name": "stdout",
     "output_type": "stream",
     "text": [
      "Cumulative sums: [1, 3, 6, 10, 15, 21]\n"
     ]
    }
   ],
   "source": [
    "#17Create a function that takes a list of numbers and returns their cumulative sum.\n",
    "def cumulative_sum(num):\n",
    "    result=[]\n",
    "    total =0\n",
    "    for i in num:\n",
    "        total += i\n",
    "        result.append(total)\n",
    "    return result\n",
    "\n",
    "nums=[1,2,3,4,5,6]\n",
    "print(\"Cumulative sums:\",cumulative_sum(nums))"
   ]
  },
  {
   "cell_type": "code",
   "execution_count": 65,
   "id": "999e0fef-e030-4c17-8d4e-3bc9fe23671d",
   "metadata": {},
   "outputs": [
    {
     "name": "stdin",
     "output_type": "stream",
     "text": [
      "Enter your number: 5\n"
     ]
    },
    {
     "name": "stdout",
     "output_type": "stream",
     "text": [
      "120\n"
     ]
    }
   ],
   "source": [
    "#18Write a recursive function to find the factorial of a number.\n",
    "def factorial(n):\n",
    "    if n==0 or n==1:\n",
    "        return 1\n",
    "    else:\n",
    "        return n*factorial(n-1)\n",
    "\n",
    "num=int(input(\"Enter your number:\"))\n",
    "print(factorial(num))"
   ]
  },
  {
   "cell_type": "code",
   "execution_count": 68,
   "id": "b28c3300-cfe4-4a19-9b65-f0f4fd783013",
   "metadata": {},
   "outputs": [
    {
     "name": "stdin",
     "output_type": "stream",
     "text": [
      "Enter your number: 6\n"
     ]
    },
    {
     "name": "stdout",
     "output_type": "stream",
     "text": [
      "0  1  1  2  3  5  None\n"
     ]
    }
   ],
   "source": [
    "#19Write a function to print the Fibonacci series up to n terms.\n",
    "def fabonacci(n):\n",
    "    a,b=0,1\n",
    "    for i in range(n):\n",
    "        print(a,end='  ')\n",
    "        a, b = b, a + b\n",
    "num = int(input(\"Enter your number:\"))\n",
    "print(fabonacci(num))"
   ]
  },
  {
   "cell_type": "code",
   "execution_count": 74,
   "id": "55fca157-2d89-44ad-918d-f00be69817c8",
   "metadata": {},
   "outputs": [
    {
     "name": "stdin",
     "output_type": "stream",
     "text": [
      "Enter your String: 121\n"
     ]
    },
    {
     "name": "stdout",
     "output_type": "stream",
     "text": [
      "True\n"
     ]
    }
   ],
   "source": [
    "#20Define a function that checks if a given string is a palindrome.\n",
    "def palindrome(s):\n",
    "    return s == s[::-1]\n",
    "text = input(\"Enter your String:\")\n",
    "print(palindrome(text))"
   ]
  },
  {
   "cell_type": "code",
   "execution_count": 81,
   "id": "e847cdc7-b985-4086-8874-ffe723af4952",
   "metadata": {},
   "outputs": [
    {
     "name": "stdout",
     "output_type": "stream",
     "text": [
      "Maximum value: 19\n",
      "Minimum value: 1\n"
     ]
    }
   ],
   "source": [
    "#21Create a function that returns the maximum and minimum elements from a list.\n",
    "def min_max(num):\n",
    "    maximum = max(num)\n",
    "    minimum = min(num)\n",
    "    return maximum,minimum\n",
    "num = [12,14,18,5,19,2,1]\n",
    "max_val,min_val= min_max(num)\n",
    "print(\"Maximum value:\",max_val)\n",
    "print(\"Minimum value:\",min_val)"
   ]
  },
  {
   "cell_type": "code",
   "execution_count": 82,
   "id": "27c52ae7-c75e-4de5-92e7-ae58b48c791b",
   "metadata": {},
   "outputs": [
    {
     "name": "stdin",
     "output_type": "stream",
     "text": [
      "Enter your String: The quick brown fox jumps over the lazy dog \n"
     ]
    },
    {
     "name": "stdout",
     "output_type": "stream",
     "text": [
      "it is pangram\n"
     ]
    }
   ],
   "source": [
    "#22Write a function to check whether a string is a pangram.\n",
    "def is_pangram(sentence):\n",
    "    alphabet=\"abcdefghijklmnopqrstuvwxyz\"\n",
    "    for letter in alphabet:\n",
    "        if letter not in sentence.lower():\n",
    "            return False\n",
    "    return True\n",
    "text = input(\"Enter your String:\")\n",
    "if is_pangram(text):\n",
    "    print(\"it is pangram\")\n",
    "else:\n",
    "    print(\"it is not pangram\")"
   ]
  },
  {
   "cell_type": "code",
   "execution_count": 90,
   "id": "f3f5c399-cbba-4c87-be18-96defcd4cb88",
   "metadata": {},
   "outputs": [
    {
     "name": "stdin",
     "output_type": "stream",
     "text": [
      "Enter starting point: 12\n",
      "Enter end point: 24\n"
     ]
    },
    {
     "name": "stdout",
     "output_type": "stream",
     "text": [
      "Prime number: [13, 17, 19, 23]\n"
     ]
    }
   ],
   "source": [
    "#23Create a function that finds and returns all prime numbers in a given range.\n",
    "def prime(start,end):\n",
    "    count=[]\n",
    "    for i in range(start,end+1):\n",
    "        if i>1:\n",
    "            for j in range(2,i):\n",
    "                if i%j==0:\n",
    "                    break\n",
    "            else:\n",
    "                count.append(i)\n",
    "    return count\n",
    "start=int(input(\"Enter starting point:\"))\n",
    "end=int(input(\"Enter end point:\"))\n",
    "list1= prime(start,end)\n",
    "print(\"Prime number:\",list1)\n",
    "\n",
    "\n",
    "    "
   ]
  },
  {
   "cell_type": "code",
   "execution_count": 1,
   "id": "2a4b5d28-7755-4730-9ffd-e03975f6f753",
   "metadata": {},
   "outputs": [
    {
     "name": "stdin",
     "output_type": "stream",
     "text": [
      "Enter a string:  AKNMKNBbfskbsfhoafw\n"
     ]
    },
    {
     "name": "stdout",
     "output_type": "stream",
     "text": [
      "Uppercase letters: 7\n",
      "Lowercase letters: 12\n"
     ]
    }
   ],
   "source": [
    "#24Write a function to return the number of uppercase and lowercase letters in a string.\n",
    "def count_case(s):\n",
    "    upper = lower = 0\n",
    "    for char in s:\n",
    "        if char.isupper():\n",
    "            upper += 1\n",
    "        elif char.islower():\n",
    "            lower += 1\n",
    "    return upper, lower\n",
    "text = input(\"Enter a string: \")\n",
    "u, l = count_case(text)\n",
    "print(\"Uppercase letters:\", u)\n",
    "print(\"Lowercase letters:\", l)\n"
   ]
  },
  {
   "cell_type": "code",
   "execution_count": 10,
   "id": "479bbb38-ca14-4289-b339-3fed1c6ac78a",
   "metadata": {},
   "outputs": [
    {
     "name": "stdin",
     "output_type": "stream",
     "text": [
      "Enter a number: 123\n"
     ]
    },
    {
     "name": "stdout",
     "output_type": "stream",
     "text": [
      "Sum of digits: 6\n"
     ]
    }
   ],
   "source": [
    "#25Write a function to compute the sum of digits of a number.\n",
    "def sum_of_digit(n):\n",
    "    total =0\n",
    "    while n>0:\n",
    "        total += n%10\n",
    "        n//=10\n",
    "    return total\n",
    "num = int(input(\"Enter a number:\"))\n",
    "print(\"Sum of digits:\",sum_of_digit(num))"
   ]
  },
  {
   "cell_type": "code",
   "execution_count": 12,
   "id": "5530565f-f117-4d4e-a9ec-72903d036c2d",
   "metadata": {},
   "outputs": [
    {
     "name": "stdin",
     "output_type": "stream",
     "text": [
      "Enter your sentence anushka is a good gurl she is tall she has short hairs she sleeps a lot she dont want to work\n"
     ]
    },
    {
     "name": "stdout",
     "output_type": "stream",
     "text": [
      "21\n"
     ]
    }
   ],
   "source": [
    "#26. Write a function to count words in a sentence.\n",
    "def count_words(sentence):\n",
    "    words = sentence.split()\n",
    "    return len(words)\n",
    "\n",
    "text=input(\"Enter your sentence\")\n",
    "print(count_words(text))\n",
    "    "
   ]
  },
  {
   "cell_type": "code",
   "execution_count": 17,
   "id": "29bcd353-f5d9-4b12-84c6-52da8c5a9a2d",
   "metadata": {},
   "outputs": [
    {
     "name": "stdin",
     "output_type": "stream",
     "text": [
      "Enter your sentence: Anushka, is a good gurl?\n"
     ]
    },
    {
     "name": "stdout",
     "output_type": "stream",
     "text": [
      "Anushka is a good gurl\n"
     ]
    }
   ],
   "source": [
    "#27Create a function to remove all punctuation from a string.\n",
    "import string\n",
    "\n",
    "def remove_punctuation(text):\n",
    "    no_punct=''\n",
    "    for i in text:\n",
    "        if i not in string.punctuation:\n",
    "            no_punct+= i\n",
    "    return no_punct\n",
    "\n",
    "sentence = input(\"Enter your sentence:\")\n",
    "print(remove_punctuation(sentence))\n",
    "    "
   ]
  },
  {
   "cell_type": "code",
   "execution_count": 21,
   "id": "835ad0fd-58fc-43b1-a8af-2bf8eb097c41",
   "metadata": {},
   "outputs": [
    {
     "name": "stdin",
     "output_type": "stream",
     "text": [
      "Enter your number: 67\n",
      "Enter your number: 6\n"
     ]
    },
    {
     "name": "stdout",
     "output_type": "stream",
     "text": [
      "1\n"
     ]
    }
   ],
   "source": [
    "#28Create a function that finds the GCD (greatest common divisor) of two numbers.\n",
    "def gcd(a,b):\n",
    "    while b!=0:\n",
    "        a,b = b,a%b\n",
    "    return a\n",
    "num1=int(input(\"Enter your number:\"))\n",
    "num2=int(input(\"Enter your number:\"))\n",
    "print(gcd(num1,num2))"
   ]
  },
  {
   "cell_type": "code",
   "execution_count": 24,
   "id": "736a78e5-2676-45c4-9499-57e0c8a4bb37",
   "metadata": {},
   "outputs": [
    {
     "name": "stdout",
     "output_type": "stream",
     "text": [
      "[2, 5, 6, 7]\n"
     ]
    }
   ],
   "source": [
    "#29Write a function that takes a list and returns only those elements that appear more than once.\n",
    "def find_duplicates(lst):\n",
    "    dup=[]\n",
    "    for i in lst:\n",
    "        if lst.count(i)>1 and i not in dup:\n",
    "            dup.append(i)\n",
    "    return dup\n",
    "list1=[1,2,2,3,4,5,5,6,6,6,7,7,8]\n",
    "print(find_duplicates(list1))    "
   ]
  },
  {
   "cell_type": "code",
   "execution_count": 25,
   "id": "332781bd-98f3-4b18-b522-b120fc2672a7",
   "metadata": {},
   "outputs": [
    {
     "name": "stdin",
     "output_type": "stream",
     "text": [
      "enter first number: 12\n",
      "enter second number: 1\n",
      "enter third number: 45\n"
     ]
    },
    {
     "name": "stdout",
     "output_type": "stream",
     "text": [
      "largest number in btw three given number: 45\n"
     ]
    }
   ],
   "source": [
    "#30Create a function to return the largest of three numbers.\n",
    "def find_largest(a,b,c):\n",
    "    if a>=b and a>=c:\n",
    "        return a\n",
    "    elif b>=a and b>=c:\n",
    "        return b\n",
    "    else:\n",
    "        return c\n",
    "num1=int(input(\"enter first number:\"))\n",
    "num2=int(input(\"enter second number:\"))\n",
    "num3=int(input(\"enter third number:\"))\n",
    "print(\"largest number in btw three given number:\",find_largest(num1,num2,num3))\n",
    "    "
   ]
  },
  {
   "cell_type": "code",
   "execution_count": 32,
   "id": "4811d76e-c22f-4eac-b09f-0f88bbaccc18",
   "metadata": {},
   "outputs": [
    {
     "name": "stdin",
     "output_type": "stream",
     "text": [
      "enter your string: anushka is a good gurl\n"
     ]
    },
    {
     "name": "stdout",
     "output_type": "stream",
     "text": [
      "a anushka good gurl is\n"
     ]
    }
   ],
   "source": [
    "#31Write a program to sort words in a sentence alphabetically.\n",
    "def sort_words(sentence):\n",
    "    words=sentence.split()\n",
    "    words.sort()\n",
    "    return ' '.join(words)\n",
    "\n",
    "text=input(\"enter your string:\")\n",
    "sorted_sentence = sort_words(text)\n",
    "print(sorted_sentence)"
   ]
  },
  {
   "cell_type": "code",
   "execution_count": 33,
   "id": "0cd4fe66-6a63-46fd-b10d-51cd60d1ebc2",
   "metadata": {},
   "outputs": [
    {
     "name": "stdout",
     "output_type": "stream",
     "text": [
      "concatenated dictionary: {'a': 1, 'b': 2, 'c': 3, 'd': 4}\n"
     ]
    }
   ],
   "source": [
    "#32. Concatenate two dictionaries and print the result.\n",
    "def concatenate_dicts(dict1,dict2):\n",
    "    result = dict1.copy()\n",
    "    result.update(dict2)\n",
    "    return result\n",
    "\n",
    "dict1={'a':1,'b':2}\n",
    "dict2={'c':3,'d':4}\n",
    "\n",
    "combined = concatenate_dicts(dict1,dict2)\n",
    "print(\"concatenated dictionary:\",combined)\n",
    "    "
   ]
  },
  {
   "cell_type": "code",
   "execution_count": 35,
   "id": "9a9b22ff-1e8d-45c6-97b8-241377f6606c",
   "metadata": {},
   "outputs": [
    {
     "name": "stdin",
     "output_type": "stream",
     "text": [
      "enter your sentence aseiou\n"
     ]
    },
    {
     "name": "stdout",
     "output_type": "stream",
     "text": [
      "'['aseiou']' has 5 vowels\n"
     ]
    }
   ],
   "source": [
    "#33Count how many vowels are present in each word of a sentence.\n",
    "def find_vowels(sentence):\n",
    "    vowels=\"aeiouAEIOU\"\n",
    "    words=sentence.split()\n",
    "\n",
    "    for word in words:\n",
    "        count = sum(1 for char in word if char in vowels)\n",
    "        print(f\"'{words}' has {count} vowels\")\n",
    "text=input(\"enter your sentence\")\n",
    "find_vowels(text)"
   ]
  },
  {
   "cell_type": "code",
   "execution_count": 38,
   "id": "05005709-2eca-4f5d-8b57-f21f97e32929",
   "metadata": {},
   "outputs": [
    {
     "name": "stdin",
     "output_type": "stream",
     "text": [
      "Enter elements of the tuple separted bye commas  apple,cake,strawberry\n"
     ]
    },
    {
     "name": "stdout",
     "output_type": "stream",
     "text": [
      "tuple ('apple', 'cake', 'strawberry')\n",
      "list ['apple', 'cake', 'strawberry']\n"
     ]
    }
   ],
   "source": [
    "#34. Accept a tuple and convert it into a list.\n",
    "tuple_input=input(\"Enter elements of the tuple separted bye commas \")\n",
    "tuple1=tuple(tuple_input.split(','))\n",
    "list1=list(tuple1)\n",
    "print(\"tuple\",tuple1)\n",
    "print(\"list\",list1)"
   ]
  },
  {
   "cell_type": "code",
   "execution_count": 39,
   "id": "a5e2d08a-ea9a-4a67-9066-f8aed3ec2051",
   "metadata": {},
   "outputs": [
    {
     "name": "stdin",
     "output_type": "stream",
     "text": [
      "enter your sentence: a good gurl always wears helmet\n"
     ]
    },
    {
     "name": "stdout",
     "output_type": "stream",
     "text": [
      "agoodgurlalwayswearshelmet\n"
     ]
    }
   ],
   "source": [
    "#35. Remove all whitespace from a given string using a function.\n",
    "def remove_whitespace(text):\n",
    "    return text.replace(\" \",\"\")\n",
    "text=input(\"enter your sentence:\")\n",
    "print(remove_whitespace(text))"
   ]
  },
  {
   "cell_type": "code",
   "execution_count": 47,
   "id": "1d8815c5-5205-4c65-919f-8ba3b23a8283",
   "metadata": {},
   "outputs": [
    {
     "name": "stdout",
     "output_type": "stream",
     "text": [
      "{'a': 1, 'b': 2, 'c': 3, 'd': 4}\n"
     ]
    }
   ],
   "source": [
    "#36. Merge two lists into a dictionary using one as keys and the other as values.\n",
    "def merge_list_to_dict(keys,values):\n",
    "    return dict(zip(keys,values))\n",
    "\n",
    "keys = ['a','b','c','d']\n",
    "values = [1,2,3,4]\n",
    "merg_dict = merge_list_to_dict(keys,values)\n",
    "print(merg_dict)"
   ]
  },
  {
   "cell_type": "code",
   "execution_count": 48,
   "id": "84213723-5039-4f74-bae5-f2f3556ae058",
   "metadata": {},
   "outputs": [
    {
     "name": "stdout",
     "output_type": "stream",
     "text": [
      "iv\n"
     ]
    }
   ],
   "source": [
    "#37. Write a program to get the key with the maximum value in a dictionary.\n",
    "def key_with_max_val(d):\n",
    "    return max(d,key=d.get)\n",
    "\n",
    "dicti={'i':11,'ii':12,'iii':15,'iv':17}\n",
    "print(key_with_max_val(dicti))"
   ]
  },
  {
   "cell_type": "code",
   "execution_count": 51,
   "id": "83ba536e-8e52-4f10-878a-5ffabc85df88",
   "metadata": {},
   "outputs": [
    {
     "name": "stdin",
     "output_type": "stream",
     "text": [
      "enter a sentence: anushka is a very good in sports and good in academics\n"
     ]
    },
    {
     "name": "stdout",
     "output_type": "stream",
     "text": [
      "{'anushka': 1, 'is': 1, 'a': 1, 'very': 1, 'good': 2, 'in': 2, 'sports': 1, 'and': 1, 'academics': 1}\n"
     ]
    }
   ],
   "source": [
    "#38. Accept a string and print a dictionary with word frequencies.\n",
    "def word_freq(text):\n",
    "    freq={}\n",
    "    words=text.split()\n",
    "    for i in words:\n",
    "        if i in freq:\n",
    "            freq[i]+=1\n",
    "        else:\n",
    "            freq[i]=1\n",
    "    return freq\n",
    "\n",
    "sentence = input(\"enter a sentence:\")\n",
    "freq = word_freq(sentence)\n",
    "print(freq)"
   ]
  },
  {
   "cell_type": "code",
   "execution_count": 55,
   "id": "ac4e6e8a-2fd6-4acc-b5e2-d842fae0fe48",
   "metadata": {},
   "outputs": [
    {
     "name": "stdin",
     "output_type": "stream",
     "text": [
      "Enter key to check:  iii\n"
     ]
    },
    {
     "name": "stdout",
     "output_type": "stream",
     "text": [
      "Key 'iii' exists in the dictionary.\n"
     ]
    }
   ],
   "source": [
    "#39. Write a program to check if a key exists in a dictionary.\n",
    "def key_exist_in_dict(d,key):\n",
    "    return key in d\n",
    "dict = {'i': 1, 'ii': 2, 'iii': 3}\n",
    "key_to_check = input(\"Enter key to check: \")\n",
    "\n",
    "if  key_exist_in_dict(dict, key_to_check):\n",
    "    print(f\"Key '{key_to_check}' exists in the dictionary.\")\n",
    "else:\n",
    "    print(f\"Key '{key_to_check}' does NOT exist in the dictionary.\")\n"
   ]
  },
  {
   "cell_type": "code",
   "execution_count": 57,
   "id": "4e45109b-d64f-49fb-9377-8a02dd3e01c5",
   "metadata": {},
   "outputs": [
    {
     "name": "stdin",
     "output_type": "stream",
     "text": [
      "enter your string: AseIJNJoU\n"
     ]
    },
    {
     "name": "stdout",
     "output_type": "stream",
     "text": [
      "*s**JNJ**\n"
     ]
    }
   ],
   "source": [
    "#40. Write a program to replace all the vowels in a string with '*'.\n",
    "def replace_vowels(sentence):\n",
    "    vowels=\"aeiouAEIOU\"\n",
    "    result=''\n",
    "    for i in sentence:\n",
    "        if i in vowels:\n",
    "            result+='*'\n",
    "        else:\n",
    "            result+=i\n",
    "    return result\n",
    "text=input(\"enter your string:\")\n",
    "print(replace_vowels(text))"
   ]
  },
  {
   "cell_type": "code",
   "execution_count": 85,
   "id": "52b338e6-6261-449f-be2e-ea1fd117d1d5",
   "metadata": {},
   "outputs": [
    {
     "name": "stdout",
     "output_type": "stream",
     "text": [
      "File created successfully.\n"
     ]
    }
   ],
   "source": [
    "file = open(\"example.txt\", \"w\")  # creates file if it doesn't exist\n",
    "file.write(\"Hello! This is my new file.\")  # writes content\n",
    "file.close()\n",
    "print(\"File created successfully.\")\n",
    "\n",
    "with open(\"example.txt\", \"a\") as file:\n",
    "    file.write('''\\nThis is new content added to the file. this a great Short lineThis line is definitely longer than fifty characters in length.\n",
    "Another short one.This is another long line with more than fifty characters.''')\n"
   ]
  },
  {
   "cell_type": "code",
   "execution_count": 86,
   "id": "bb979b06-af1a-4791-bb11-cadc847ad9ae",
   "metadata": {},
   "outputs": [
    {
     "name": "stdout",
     "output_type": "stream",
     "text": [
      "File contents:\n",
      "\n",
      "Hello! This is my new file.\n",
      "This is new content added to the file. this a great Short lineThis line is definitely longer than fifty characters in length.\n",
      "Another short one.This is another long line with more than fifty characters.\n"
     ]
    }
   ],
   "source": [
    "\n",
    "#41. Write a Python program to read the contents of a file and display it.\n",
    "file = open(\"example.txt\", \"r\")\n",
    "print(\"File contents:\\n\")\n",
    "print(file.read())\n",
    "file.close()\n"
   ]
  },
  {
   "cell_type": "code",
   "execution_count": 89,
   "id": "48eaf266-15c8-47ac-aeca-0eecaa7e85d3",
   "metadata": {},
   "outputs": [
    {
     "name": "stdout",
     "output_type": "stream",
     "text": [
      "Number of words in the file: 40\n"
     ]
    }
   ],
   "source": [
    "#42. Count the number of words in a file.\n",
    "file = open(\"example.txt\", \"r\")\n",
    "content = file.read()\n",
    "file.close()\n",
    "\n",
    "words = content.split()\n",
    "print(\"Number of words in the file:\", len(words))\n"
   ]
  },
  {
   "cell_type": "code",
   "execution_count": 90,
   "id": "933f6414-a0e6-4337-b6ce-3a80713ef11a",
   "metadata": {},
   "outputs": [
    {
     "name": "stdout",
     "output_type": "stream",
     "text": [
      "Contents copied from 'example.txt' to 'copy.txt'.\n"
     ]
    }
   ],
   "source": [
    "#43. Copy contents of one file to another.\n",
    "with open(\"example.txt\", \"r\") as source:\n",
    "    content = source.read()\n",
    "with open(\"copy.txt\", \"w\") as destination:\n",
    "    destination.write(content)\n",
    "\n",
    "print(\"Contents copied from 'example.txt' to 'copy.txt'.\")\n"
   ]
  },
  {
   "cell_type": "code",
   "execution_count": 91,
   "id": "b72c74c1-43f7-4f59-8cd1-2795849085ae",
   "metadata": {},
   "outputs": [
    {
     "name": "stdout",
     "output_type": "stream",
     "text": [
      "This is new content added to the file. this a great Short lineThis line is definitely longer than fifty characters in length.\n",
      "Another short one.This is another long line with more than fifty characters.\n"
     ]
    }
   ],
   "source": [
    "#44. Print only the lines that have more than 50 characters from a text file.\n",
    "with open(\"example.txt\", \"r\") as file:\n",
    "    for line in file:\n",
    "        if len(line.strip()) > 50:\n",
    "            print(line.strip())\n"
   ]
  },
  {
   "cell_type": "code",
   "execution_count": null,
   "id": "c83c2b4c-b946-4b02-a789-696237facf6d",
   "metadata": {},
   "outputs": [],
   "source": [
    "#45. Write a program to write a list of strings into a text file (one string per line).\n"
   ]
  }
 ],
 "metadata": {
  "kernelspec": {
   "display_name": "Python 3 (ipykernel)",
   "language": "python",
   "name": "python3"
  },
  "language_info": {
   "codemirror_mode": {
    "name": "ipython",
    "version": 3
   },
   "file_extension": ".py",
   "mimetype": "text/x-python",
   "name": "python",
   "nbconvert_exporter": "python",
   "pygments_lexer": "ipython3",
   "version": "3.13.5"
  }
 },
 "nbformat": 4,
 "nbformat_minor": 5
}
